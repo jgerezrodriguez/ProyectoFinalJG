{
 "cells": [
  {
   "cell_type": "code",
   "execution_count": 1,
   "metadata": {},
   "outputs": [],
   "source": [
    "from math import sqrt\n",
    "from numpy import concatenate\n",
    "from matplotlib import pyplot\n",
    "from pandas import read_csv\n",
    "from pandas import DataFrame\n",
    "from pandas import concat\n",
    "from sklearn.preprocessing import MinMaxScaler\n",
    "from sklearn.preprocessing import LabelEncoder\n",
    "from sklearn.metrics import mean_squared_error\n",
    "from sklearn.metrics import mean_absolute_error\n",
    "from sklearn.metrics import mean_absolute_percentage_error\n",
    "from keras.models import Sequential\n",
    "from keras.layers import Dense\n",
    "from keras.layers import LSTM\n",
    "import pandas as pd\n",
    "import numpy as np\n",
    "import matplotlib.pyplot as plt\n",
    "from pandas import read_csv\n",
    "from datetime import datetime\n"
   ]
  },
  {
   "cell_type": "code",
   "execution_count": 2,
   "metadata": {},
   "outputs": [
    {
     "data": {
      "text/html": [
       "<div>\n",
       "<style scoped>\n",
       "    .dataframe tbody tr th:only-of-type {\n",
       "        vertical-align: middle;\n",
       "    }\n",
       "\n",
       "    .dataframe tbody tr th {\n",
       "        vertical-align: top;\n",
       "    }\n",
       "\n",
       "    .dataframe thead th {\n",
       "        text-align: right;\n",
       "    }\n",
       "</style>\n",
       "<table border=\"1\" class=\"dataframe\">\n",
       "  <thead>\n",
       "    <tr style=\"text-align: right;\">\n",
       "      <th></th>\n",
       "      <th>Store</th>\n",
       "      <th>Date</th>\n",
       "      <th>Weekly_Sales</th>\n",
       "      <th>Holiday_Flag</th>\n",
       "      <th>Temperature</th>\n",
       "      <th>Fuel_Price</th>\n",
       "      <th>CPI</th>\n",
       "      <th>Unemployment</th>\n",
       "    </tr>\n",
       "  </thead>\n",
       "  <tbody>\n",
       "    <tr>\n",
       "      <th>0</th>\n",
       "      <td>1</td>\n",
       "      <td>08-01-2010</td>\n",
       "      <td>1425307.565</td>\n",
       "      <td>0</td>\n",
       "      <td>41.97</td>\n",
       "      <td>2.420</td>\n",
       "      <td>211.081890</td>\n",
       "      <td>7.545</td>\n",
       "    </tr>\n",
       "    <tr>\n",
       "      <th>1</th>\n",
       "      <td>1</td>\n",
       "      <td>15-01-2010</td>\n",
       "      <td>1360899.630</td>\n",
       "      <td>0</td>\n",
       "      <td>49.08</td>\n",
       "      <td>2.473</td>\n",
       "      <td>210.997826</td>\n",
       "      <td>7.545</td>\n",
       "    </tr>\n",
       "    <tr>\n",
       "      <th>2</th>\n",
       "      <td>1</td>\n",
       "      <td>22-01-2010</td>\n",
       "      <td>1346232.857</td>\n",
       "      <td>0</td>\n",
       "      <td>47.33</td>\n",
       "      <td>2.496</td>\n",
       "      <td>210.925603</td>\n",
       "      <td>7.545</td>\n",
       "    </tr>\n",
       "    <tr>\n",
       "      <th>3</th>\n",
       "      <td>1</td>\n",
       "      <td>29-01-2010</td>\n",
       "      <td>1318112.450</td>\n",
       "      <td>0</td>\n",
       "      <td>49.05</td>\n",
       "      <td>2.549</td>\n",
       "      <td>211.023576</td>\n",
       "      <td>7.545</td>\n",
       "    </tr>\n",
       "    <tr>\n",
       "      <th>4</th>\n",
       "      <td>1</td>\n",
       "      <td>05-02-2010</td>\n",
       "      <td>1643690.900</td>\n",
       "      <td>0</td>\n",
       "      <td>42.31</td>\n",
       "      <td>2.572</td>\n",
       "      <td>211.096358</td>\n",
       "      <td>8.106</td>\n",
       "    </tr>\n",
       "  </tbody>\n",
       "</table>\n",
       "</div>"
      ],
      "text/plain": [
       "   Store        Date  Weekly_Sales  Holiday_Flag  Temperature  Fuel_Price  \\\n",
       "0      1  08-01-2010   1425307.565             0        41.97       2.420   \n",
       "1      1  15-01-2010   1360899.630             0        49.08       2.473   \n",
       "2      1  22-01-2010   1346232.857             0        47.33       2.496   \n",
       "3      1  29-01-2010   1318112.450             0        49.05       2.549   \n",
       "4      1  05-02-2010   1643690.900             0        42.31       2.572   \n",
       "\n",
       "          CPI  Unemployment  \n",
       "0  211.081890         7.545  \n",
       "1  210.997826         7.545  \n",
       "2  210.925603         7.545  \n",
       "3  211.023576         7.545  \n",
       "4  211.096358         8.106  "
      ]
     },
     "execution_count": 2,
     "metadata": {},
     "output_type": "execute_result"
    }
   ],
   "source": [
    "dataset = pd.read_csv('Walmart_dataset_modificado.csv')\n",
    "dataset.head()"
   ]
  },
  {
   "cell_type": "code",
   "execution_count": 3,
   "metadata": {},
   "outputs": [
    {
     "data": {
      "text/html": [
       "<div>\n",
       "<style scoped>\n",
       "    .dataframe tbody tr th:only-of-type {\n",
       "        vertical-align: middle;\n",
       "    }\n",
       "\n",
       "    .dataframe tbody tr th {\n",
       "        vertical-align: top;\n",
       "    }\n",
       "\n",
       "    .dataframe thead th {\n",
       "        text-align: right;\n",
       "    }\n",
       "</style>\n",
       "<table border=\"1\" class=\"dataframe\">\n",
       "  <thead>\n",
       "    <tr style=\"text-align: right;\">\n",
       "      <th></th>\n",
       "      <th>Fecha</th>\n",
       "      <th>Ventas</th>\n",
       "      <th>Holiday_Flag</th>\n",
       "      <th>Temperature</th>\n",
       "      <th>Fuel_Price</th>\n",
       "      <th>CPI</th>\n",
       "      <th>Unemployment</th>\n",
       "    </tr>\n",
       "  </thead>\n",
       "  <tbody>\n",
       "    <tr>\n",
       "      <th>0</th>\n",
       "      <td>08-01-2010</td>\n",
       "      <td>1425307.565</td>\n",
       "      <td>0</td>\n",
       "      <td>41.97</td>\n",
       "      <td>2.420</td>\n",
       "      <td>211.081890</td>\n",
       "      <td>7.545</td>\n",
       "    </tr>\n",
       "    <tr>\n",
       "      <th>1</th>\n",
       "      <td>15-01-2010</td>\n",
       "      <td>1360899.630</td>\n",
       "      <td>0</td>\n",
       "      <td>49.08</td>\n",
       "      <td>2.473</td>\n",
       "      <td>210.997826</td>\n",
       "      <td>7.545</td>\n",
       "    </tr>\n",
       "    <tr>\n",
       "      <th>2</th>\n",
       "      <td>22-01-2010</td>\n",
       "      <td>1346232.857</td>\n",
       "      <td>0</td>\n",
       "      <td>47.33</td>\n",
       "      <td>2.496</td>\n",
       "      <td>210.925603</td>\n",
       "      <td>7.545</td>\n",
       "    </tr>\n",
       "    <tr>\n",
       "      <th>3</th>\n",
       "      <td>29-01-2010</td>\n",
       "      <td>1318112.450</td>\n",
       "      <td>0</td>\n",
       "      <td>49.05</td>\n",
       "      <td>2.549</td>\n",
       "      <td>211.023576</td>\n",
       "      <td>7.545</td>\n",
       "    </tr>\n",
       "    <tr>\n",
       "      <th>4</th>\n",
       "      <td>05-02-2010</td>\n",
       "      <td>1643690.900</td>\n",
       "      <td>0</td>\n",
       "      <td>42.31</td>\n",
       "      <td>2.572</td>\n",
       "      <td>211.096358</td>\n",
       "      <td>8.106</td>\n",
       "    </tr>\n",
       "  </tbody>\n",
       "</table>\n",
       "</div>"
      ],
      "text/plain": [
       "        Fecha       Ventas  Holiday_Flag  Temperature  Fuel_Price         CPI  \\\n",
       "0  08-01-2010  1425307.565             0        41.97       2.420  211.081890   \n",
       "1  15-01-2010  1360899.630             0        49.08       2.473  210.997826   \n",
       "2  22-01-2010  1346232.857             0        47.33       2.496  210.925603   \n",
       "3  29-01-2010  1318112.450             0        49.05       2.549  211.023576   \n",
       "4  05-02-2010  1643690.900             0        42.31       2.572  211.096358   \n",
       "\n",
       "   Unemployment  \n",
       "0         7.545  \n",
       "1         7.545  \n",
       "2         7.545  \n",
       "3         7.545  \n",
       "4         8.106  "
      ]
     },
     "execution_count": 3,
     "metadata": {},
     "output_type": "execute_result"
    }
   ],
   "source": [
    "df = pd.DataFrame({'Fecha': dataset['Date'],'Ventas': dataset['Weekly_Sales'], 'Holiday_Flag': dataset['Holiday_Flag'], 'Temperature': dataset['Temperature'], 'Fuel_Price': dataset['Fuel_Price'], 'CPI': dataset['CPI'], 'Unemployment': dataset['Unemployment']  }) \n",
    "df.head()"
   ]
  },
  {
   "cell_type": "code",
   "execution_count": 4,
   "metadata": {},
   "outputs": [],
   "source": [
    "df[\"Fecha\"] = pd.to_datetime(df[\"Fecha\"], format='%d-%m-%Y')"
   ]
  },
  {
   "cell_type": "code",
   "execution_count": 5,
   "metadata": {},
   "outputs": [
    {
     "name": "stdout",
     "output_type": "stream",
     "text": [
      "          Fecha       Ventas  Holiday_Flag  Temperature  Fuel_Price  \\\n",
      "0    2010-01-08  1425307.565             0       41.970       2.420   \n",
      "1    2010-01-15  1360899.630             0       49.080       2.473   \n",
      "2    2010-01-22  1346232.857             0       47.330       2.496   \n",
      "3    2010-01-29  1318112.450             0       49.050       2.549   \n",
      "4    2010-02-05  1643690.900             0       42.310       2.572   \n",
      "..          ...          ...           ...          ...         ...   \n",
      "151  2012-11-30  1620134.120             0       49.090       3.582   \n",
      "152  2012-12-07  1916750.510             0       49.090       3.580   \n",
      "153  2012-12-14  1871318.410             0       45.130       3.592   \n",
      "154  2012-12-21  2152427.780             0       50.735       3.588   \n",
      "155  2012-12-28  1627605.430             1       50.145       3.586   \n",
      "\n",
      "            CPI  Unemployment  \n",
      "0    211.081890         7.545  \n",
      "1    210.997826         7.545  \n",
      "2    210.925603         7.545  \n",
      "3    211.023576         7.545  \n",
      "4    211.096358         8.106  \n",
      "..          ...           ...  \n",
      "151  223.332428         6.573  \n",
      "152  223.316879         6.573  \n",
      "153  223.295650         6.573  \n",
      "154  223.311696         6.573  \n",
      "155  223.318818         6.573  \n",
      "\n",
      "[156 rows x 7 columns]\n"
     ]
    }
   ],
   "source": [
    "df[\"Fecha\"] = df['Fecha'].dt.strftime('%Y-%m-%d')\n",
    "print(df)"
   ]
  },
  {
   "cell_type": "code",
   "execution_count": 6,
   "metadata": {},
   "outputs": [],
   "source": [
    "df['Fecha'] = pd.to_datetime(df['Fecha'])"
   ]
  },
  {
   "cell_type": "code",
   "execution_count": 7,
   "metadata": {},
   "outputs": [
    {
     "name": "stdout",
     "output_type": "stream",
     "text": [
      "<class 'pandas.core.frame.DataFrame'>\n",
      "RangeIndex: 156 entries, 0 to 155\n",
      "Data columns (total 7 columns):\n",
      " #   Column        Non-Null Count  Dtype         \n",
      "---  ------        --------------  -----         \n",
      " 0   Fecha         156 non-null    datetime64[ns]\n",
      " 1   Ventas        156 non-null    float64       \n",
      " 2   Holiday_Flag  156 non-null    int64         \n",
      " 3   Temperature   156 non-null    float64       \n",
      " 4   Fuel_Price    156 non-null    float64       \n",
      " 5   CPI           156 non-null    float64       \n",
      " 6   Unemployment  156 non-null    float64       \n",
      "dtypes: datetime64[ns](1), float64(5), int64(1)\n",
      "memory usage: 8.7 KB\n"
     ]
    }
   ],
   "source": [
    "df.info()"
   ]
  },
  {
   "cell_type": "code",
   "execution_count": 8,
   "metadata": {},
   "outputs": [],
   "source": [
    "df.set_index('Fecha', inplace=True)"
   ]
  },
  {
   "cell_type": "code",
   "execution_count": 9,
   "metadata": {},
   "outputs": [
    {
     "data": {
      "text/html": [
       "<div>\n",
       "<style scoped>\n",
       "    .dataframe tbody tr th:only-of-type {\n",
       "        vertical-align: middle;\n",
       "    }\n",
       "\n",
       "    .dataframe tbody tr th {\n",
       "        vertical-align: top;\n",
       "    }\n",
       "\n",
       "    .dataframe thead th {\n",
       "        text-align: right;\n",
       "    }\n",
       "</style>\n",
       "<table border=\"1\" class=\"dataframe\">\n",
       "  <thead>\n",
       "    <tr style=\"text-align: right;\">\n",
       "      <th></th>\n",
       "      <th>Ventas</th>\n",
       "      <th>Holiday_Flag</th>\n",
       "      <th>Temperature</th>\n",
       "      <th>Fuel_Price</th>\n",
       "      <th>CPI</th>\n",
       "      <th>Unemployment</th>\n",
       "    </tr>\n",
       "    <tr>\n",
       "      <th>Fecha</th>\n",
       "      <th></th>\n",
       "      <th></th>\n",
       "      <th></th>\n",
       "      <th></th>\n",
       "      <th></th>\n",
       "      <th></th>\n",
       "    </tr>\n",
       "  </thead>\n",
       "  <tbody>\n",
       "    <tr>\n",
       "      <th>2010-01-08</th>\n",
       "      <td>1425307.565</td>\n",
       "      <td>0</td>\n",
       "      <td>41.97</td>\n",
       "      <td>2.420</td>\n",
       "      <td>211.081890</td>\n",
       "      <td>7.545</td>\n",
       "    </tr>\n",
       "    <tr>\n",
       "      <th>2010-01-15</th>\n",
       "      <td>1360899.630</td>\n",
       "      <td>0</td>\n",
       "      <td>49.08</td>\n",
       "      <td>2.473</td>\n",
       "      <td>210.997826</td>\n",
       "      <td>7.545</td>\n",
       "    </tr>\n",
       "    <tr>\n",
       "      <th>2010-01-22</th>\n",
       "      <td>1346232.857</td>\n",
       "      <td>0</td>\n",
       "      <td>47.33</td>\n",
       "      <td>2.496</td>\n",
       "      <td>210.925603</td>\n",
       "      <td>7.545</td>\n",
       "    </tr>\n",
       "    <tr>\n",
       "      <th>2010-01-29</th>\n",
       "      <td>1318112.450</td>\n",
       "      <td>0</td>\n",
       "      <td>49.05</td>\n",
       "      <td>2.549</td>\n",
       "      <td>211.023576</td>\n",
       "      <td>7.545</td>\n",
       "    </tr>\n",
       "    <tr>\n",
       "      <th>2010-02-05</th>\n",
       "      <td>1643690.900</td>\n",
       "      <td>0</td>\n",
       "      <td>42.31</td>\n",
       "      <td>2.572</td>\n",
       "      <td>211.096358</td>\n",
       "      <td>8.106</td>\n",
       "    </tr>\n",
       "  </tbody>\n",
       "</table>\n",
       "</div>"
      ],
      "text/plain": [
       "                 Ventas  Holiday_Flag  Temperature  Fuel_Price         CPI  \\\n",
       "Fecha                                                                        \n",
       "2010-01-08  1425307.565             0        41.97       2.420  211.081890   \n",
       "2010-01-15  1360899.630             0        49.08       2.473  210.997826   \n",
       "2010-01-22  1346232.857             0        47.33       2.496  210.925603   \n",
       "2010-01-29  1318112.450             0        49.05       2.549  211.023576   \n",
       "2010-02-05  1643690.900             0        42.31       2.572  211.096358   \n",
       "\n",
       "            Unemployment  \n",
       "Fecha                     \n",
       "2010-01-08         7.545  \n",
       "2010-01-15         7.545  \n",
       "2010-01-22         7.545  \n",
       "2010-01-29         7.545  \n",
       "2010-02-05         8.106  "
      ]
     },
     "execution_count": 9,
     "metadata": {},
     "output_type": "execute_result"
    }
   ],
   "source": [
    "df.head()"
   ]
  },
  {
   "cell_type": "code",
   "execution_count": 10,
   "metadata": {},
   "outputs": [
    {
     "data": {
      "text/plain": [
       "156"
      ]
     },
     "execution_count": 10,
     "metadata": {},
     "output_type": "execute_result"
    }
   ],
   "source": [
    "len(df)"
   ]
  },
  {
   "cell_type": "code",
   "execution_count": 11,
   "metadata": {},
   "outputs": [],
   "source": [
    "df.to_csv('WalmartLSTM.csv')"
   ]
  },
  {
   "cell_type": "code",
   "execution_count": 12,
   "metadata": {},
   "outputs": [
    {
     "data": {
      "text/plain": [
       "156"
      ]
     },
     "execution_count": 12,
     "metadata": {},
     "output_type": "execute_result"
    }
   ],
   "source": [
    "len(df)"
   ]
  },
  {
   "cell_type": "code",
   "execution_count": 13,
   "metadata": {},
   "outputs": [
    {
     "data": {
      "image/png": "[encoded data removed]",
      "text/plain": [
       "<Figure size 432x288 with 5 Axes>"
      ]
     },
     "metadata": {
      "needs_background": "light"
     },
     "output_type": "display_data"
    }
   ],
   "source": [
    "from pandas import read_csv\n",
    "from matplotlib import pyplot\n",
    "\n",
    "# load dataset\n",
    "dataset = read_csv('WalmartLSTM.csv', index_col=0)\n",
    "values = dataset.values\n",
    "\n",
    "# specify columns to plot\n",
    "groups = [0, 2, 3, 4, 5]\n",
    "i = 1\n",
    "\n",
    "# plot each column\n",
    "pyplot.figure()\n",
    "for group in groups:\n",
    " pyplot.subplot(len(groups), 1, i)\n",
    " pyplot.plot(values[:, group])\n",
    " pyplot.title(dataset.columns[group], y=0.5, loc='right')\n",
    " i += 1\n",
    "pyplot.show()"
   ]
  },
  {
   "cell_type": "code",
   "execution_count": 14,
   "metadata": {},
   "outputs": [
    {
     "data": {
      "text/plain": [
       "156"
      ]
     },
     "execution_count": 14,
     "metadata": {},
     "output_type": "execute_result"
    }
   ],
   "source": [
    "len(dataset)"
   ]
  },
  {
   "cell_type": "code",
   "execution_count": 15,
   "metadata": {},
   "outputs": [
    {
     "data": {
      "text/plain": [
       "156"
      ]
     },
     "execution_count": 15,
     "metadata": {},
     "output_type": "execute_result"
    }
   ],
   "source": [
    "len(values)"
   ]
  },
  {
   "cell_type": "code",
   "execution_count": 16,
   "metadata": {},
   "outputs": [],
   "source": [
    "# prepare data for lstm\n",
    "from pandas import read_csv\n",
    "from pandas import DataFrame\n",
    "from pandas import concat\n",
    "from sklearn.preprocessing import LabelEncoder\n",
    "from sklearn.preprocessing import MinMaxScaler\n",
    " \n",
    "# convert series to supervised learning\n",
    "def series_to_supervised(data, n_in=1, n_out=1, dropnan=True):\n",
    " n_vars = 1 if type(data) is list else data.shape[1]\n",
    " df = DataFrame(data)\n",
    " cols, names = list(), list()\n",
    " # input sequence (t-n, ... t-1)\n",
    " for i in range(n_in, 0, -1):\n",
    "   cols.append(df.shift(i))\n",
    " names += [('var%d(t-%d)' % (j+1, i)) for j in range(n_vars)]\n",
    " # forecast sequence (t, t+1, ... t+n)\n",
    " for i in range(0, n_out):\n",
    "   cols.append(df.shift(-i))\n",
    " if i == 0:\n",
    "   names += [('var%d(t)' % (j+1)) for j in range(n_vars)]\n",
    " else:\n",
    "   names += [('var%d(t+%d)' % (j+1, i)) for j in range(n_vars)]\n",
    " # put it all together\n",
    " agg = concat(cols, axis=1)\n",
    " agg.columns = names\n",
    " # drop rows with NaN values\n",
    " if dropnan:\n",
    "   agg.dropna(inplace=True)\n",
    " return agg"
   ]
  },
  {
   "cell_type": "code",
   "execution_count": 17,
   "metadata": {},
   "outputs": [
    {
     "data": {
      "text/plain": [
       "156"
      ]
     },
     "execution_count": 17,
     "metadata": {},
     "output_type": "execute_result"
    }
   ],
   "source": [
    "len(dataset)"
   ]
  },
  {
   "cell_type": "code",
   "execution_count": 18,
   "metadata": {},
   "outputs": [
    {
     "data": {
      "text/plain": [
       "156"
      ]
     },
     "execution_count": 18,
     "metadata": {},
     "output_type": "execute_result"
    }
   ],
   "source": [
    "len(values)"
   ]
  },
  {
   "cell_type": "code",
   "execution_count": 19,
   "metadata": {},
   "outputs": [
    {
     "name": "stdout",
     "output_type": "stream",
     "text": [
      "   var1(t-1)  var2(t-1)  var3(t-1)  var4(t-1)  var5(t-1)  var6(t-1)   var1(t)\n",
      "1   0.101217        0.0   0.116800   0.000000   0.056799   0.634051  0.041081\n",
      "2   0.041081        0.0   0.243200   0.035642   0.050386   0.634051  0.027388\n",
      "3   0.027388        0.0   0.212089   0.051110   0.044874   0.634051  0.001133\n",
      "4   0.001133        0.0   0.242667   0.086752   0.052351   0.634051  0.305113\n",
      "5   0.305113        0.0   0.122844   0.102219   0.057903   1.000000  0.303495\n"
     ]
    }
   ],
   "source": [
    "# prepare data for lstm\n",
    "from pandas import read_csv\n",
    "from pandas import DataFrame\n",
    "from pandas import concat\n",
    "from sklearn.preprocessing import LabelEncoder\n",
    "from sklearn.preprocessing import MinMaxScaler\n",
    " \n",
    "# integer encode direction\n",
    "encoder = LabelEncoder()\n",
    "values[:,1] = encoder.fit_transform(values[:,1])\n",
    "# ensure all data is float\n",
    "values = values.astype('float32')\n",
    "# normalize features\n",
    "scaler = MinMaxScaler(feature_range=(0, 1))\n",
    "scaled = scaler.fit_transform(values)\n",
    "# frame as supervised learning\n",
    "reframed = series_to_supervised(scaled, 1, 1)\n",
    "# drop columns we don't want to predict\n",
    "reframed.drop(reframed.columns[[7,8,9,10,11]], axis=1, inplace=True)\n",
    "print(reframed.head())"
   ]
  },
  {
   "cell_type": "code",
   "execution_count": 20,
   "metadata": {},
   "outputs": [
    {
     "data": {
      "text/plain": [
       "156"
      ]
     },
     "execution_count": 20,
     "metadata": {},
     "output_type": "execute_result"
    }
   ],
   "source": [
    "len(dataset)"
   ]
  },
  {
   "cell_type": "code",
   "execution_count": 21,
   "metadata": {},
   "outputs": [
    {
     "data": {
      "text/plain": [
       "156"
      ]
     },
     "execution_count": 21,
     "metadata": {},
     "output_type": "execute_result"
    }
   ],
   "source": [
    "len(values)"
   ]
  },
  {
   "cell_type": "code",
   "execution_count": 22,
   "metadata": {},
   "outputs": [
    {
     "data": {
      "text/plain": [
       "156"
      ]
     },
     "execution_count": 22,
     "metadata": {},
     "output_type": "execute_result"
    }
   ],
   "source": [
    "len(scaled)"
   ]
  },
  {
   "cell_type": "code",
   "execution_count": 23,
   "metadata": {},
   "outputs": [
    {
     "data": {
      "text/plain": [
       "155"
      ]
     },
     "execution_count": 23,
     "metadata": {},
     "output_type": "execute_result"
    }
   ],
   "source": [
    "len(reframed)"
   ]
  },
  {
   "cell_type": "code",
   "execution_count": 24,
   "metadata": {},
   "outputs": [
    {
     "name": "stdout",
     "output_type": "stream",
     "text": [
      "(125, 1, 6) (125,) (30, 1, 6) (30,)\n"
     ]
    }
   ],
   "source": [
    "# split into train and test sets\n",
    "values = reframed.values\n",
    "train = values[:-30]\n",
    "test = values[-30: ]\n",
    "# split into input and outputs\n",
    "train_X, train_y = train[:, :-1], train[:, -1]\n",
    "test_X, test_y = test[:, :-1], test[:, -1]\n",
    "# reshape input to be 3D [samples, timesteps, features]\n",
    "train_X = train_X.reshape((train_X.shape[0], 1, train_X.shape[1]))\n",
    "test_X = test_X.reshape((test_X.shape[0], 1, test_X.shape[1]))\n",
    "print(train_X.shape, train_y.shape, test_X.shape, test_y.shape)\n"
   ]
  },
  {
   "cell_type": "code",
   "execution_count": 25,
   "metadata": {},
   "outputs": [
    {
     "data": {
      "text/plain": [
       "155"
      ]
     },
     "execution_count": 25,
     "metadata": {},
     "output_type": "execute_result"
    }
   ],
   "source": [
    "len(values)"
   ]
  },
  {
   "cell_type": "code",
   "execution_count": 26,
   "metadata": {},
   "outputs": [
    {
     "name": "stdout",
     "output_type": "stream",
     "text": [
      "Epoch 1/100\n",
      "2/2 - 6s - loss: 0.0634 - val_loss: 0.1003 - 6s/epoch - 3s/step\n",
      "Epoch 2/100\n",
      "2/2 - 0s - loss: 0.0558 - val_loss: 0.0900 - 79ms/epoch - 39ms/step\n",
      "Epoch 3/100\n",
      "2/2 - 0s - loss: 0.0491 - val_loss: 0.0805 - 79ms/epoch - 39ms/step\n",
      "Epoch 4/100\n",
      "2/2 - 0s - loss: 0.0432 - val_loss: 0.0720 - 71ms/epoch - 35ms/step\n",
      "Epoch 5/100\n",
      "2/2 - 0s - loss: 0.0381 - val_loss: 0.0643 - 94ms/epoch - 47ms/step\n",
      "Epoch 6/100\n",
      "2/2 - 0s - loss: 0.0338 - val_loss: 0.0576 - 95ms/epoch - 47ms/step\n",
      "Epoch 7/100\n",
      "2/2 - 0s - loss: 0.0303 - val_loss: 0.0518 - 96ms/epoch - 48ms/step\n",
      "Epoch 8/100\n",
      "2/2 - 0s - loss: 0.0275 - val_loss: 0.0468 - 77ms/epoch - 38ms/step\n",
      "Epoch 9/100\n",
      "2/2 - 0s - loss: 0.0254 - val_loss: 0.0427 - 79ms/epoch - 39ms/step\n",
      "Epoch 10/100\n",
      "2/2 - 0s - loss: 0.0239 - val_loss: 0.0394 - 79ms/epoch - 39ms/step\n",
      "Epoch 11/100\n",
      "2/2 - 0s - loss: 0.0229 - val_loss: 0.0368 - 79ms/epoch - 39ms/step\n",
      "Epoch 12/100\n",
      "2/2 - 0s - loss: 0.0224 - val_loss: 0.0348 - 79ms/epoch - 39ms/step\n",
      "Epoch 13/100\n",
      "2/2 - 0s - loss: 0.0222 - val_loss: 0.0333 - 78ms/epoch - 39ms/step\n",
      "Epoch 14/100\n",
      "2/2 - 0s - loss: 0.0222 - val_loss: 0.0322 - 79ms/epoch - 39ms/step\n",
      "Epoch 15/100\n",
      "2/2 - 0s - loss: 0.0223 - val_loss: 0.0315 - 63ms/epoch - 32ms/step\n",
      "Epoch 16/100\n",
      "2/2 - 0s - loss: 0.0224 - val_loss: 0.0310 - 79ms/epoch - 39ms/step\n",
      "Epoch 17/100\n",
      "2/2 - 0s - loss: 0.0225 - val_loss: 0.0307 - 95ms/epoch - 47ms/step\n",
      "Epoch 18/100\n",
      "2/2 - 0s - loss: 0.0226 - val_loss: 0.0305 - 95ms/epoch - 48ms/step\n",
      "Epoch 19/100\n",
      "2/2 - 0s - loss: 0.0225 - val_loss: 0.0304 - 92ms/epoch - 46ms/step\n",
      "Epoch 20/100\n",
      "2/2 - 0s - loss: 0.0224 - val_loss: 0.0304 - 78ms/epoch - 39ms/step\n",
      "Epoch 21/100\n",
      "2/2 - 0s - loss: 0.0223 - val_loss: 0.0305 - 79ms/epoch - 39ms/step\n",
      "Epoch 22/100\n",
      "2/2 - 0s - loss: 0.0221 - val_loss: 0.0306 - 79ms/epoch - 39ms/step\n",
      "Epoch 23/100\n",
      "2/2 - 0s - loss: 0.0219 - val_loss: 0.0308 - 94ms/epoch - 47ms/step\n",
      "Epoch 24/100\n",
      "2/2 - 0s - loss: 0.0217 - val_loss: 0.0310 - 79ms/epoch - 39ms/step\n",
      "Epoch 25/100\n",
      "2/2 - 0s - loss: 0.0216 - val_loss: 0.0312 - 79ms/epoch - 39ms/step\n",
      "Epoch 26/100\n",
      "2/2 - 0s - loss: 0.0215 - val_loss: 0.0314 - 78ms/epoch - 39ms/step\n",
      "Epoch 27/100\n",
      "2/2 - 0s - loss: 0.0214 - val_loss: 0.0316 - 79ms/epoch - 39ms/step\n",
      "Epoch 28/100\n",
      "2/2 - 0s - loss: 0.0213 - val_loss: 0.0318 - 78ms/epoch - 39ms/step\n",
      "Epoch 29/100\n",
      "2/2 - 0s - loss: 0.0213 - val_loss: 0.0318 - 79ms/epoch - 39ms/step\n",
      "Epoch 30/100\n",
      "2/2 - 0s - loss: 0.0213 - val_loss: 0.0318 - 92ms/epoch - 46ms/step\n",
      "Epoch 31/100\n",
      "2/2 - 0s - loss: 0.0212 - val_loss: 0.0318 - 79ms/epoch - 39ms/step\n",
      "Epoch 32/100\n",
      "2/2 - 0s - loss: 0.0212 - val_loss: 0.0317 - 157ms/epoch - 78ms/step\n",
      "Epoch 33/100\n",
      "2/2 - 0s - loss: 0.0211 - val_loss: 0.0315 - 82ms/epoch - 41ms/step\n",
      "Epoch 34/100\n",
      "2/2 - 0s - loss: 0.0211 - val_loss: 0.0313 - 125ms/epoch - 63ms/step\n",
      "Epoch 35/100\n",
      "2/2 - 0s - loss: 0.0210 - val_loss: 0.0310 - 94ms/epoch - 47ms/step\n",
      "Epoch 36/100\n",
      "2/2 - 0s - loss: 0.0210 - val_loss: 0.0307 - 78ms/epoch - 39ms/step\n",
      "Epoch 37/100\n",
      "2/2 - 0s - loss: 0.0209 - val_loss: 0.0305 - 79ms/epoch - 39ms/step\n",
      "Epoch 38/100\n",
      "2/2 - 0s - loss: 0.0209 - val_loss: 0.0302 - 63ms/epoch - 32ms/step\n",
      "Epoch 39/100\n",
      "2/2 - 0s - loss: 0.0208 - val_loss: 0.0299 - 79ms/epoch - 39ms/step\n",
      "Epoch 40/100\n",
      "2/2 - 0s - loss: 0.0208 - val_loss: 0.0297 - 81ms/epoch - 41ms/step\n",
      "Epoch 41/100\n",
      "2/2 - 0s - loss: 0.0207 - val_loss: 0.0295 - 78ms/epoch - 39ms/step\n",
      "Epoch 42/100\n",
      "2/2 - 0s - loss: 0.0207 - val_loss: 0.0293 - 81ms/epoch - 40ms/step\n",
      "Epoch 43/100\n",
      "2/2 - 0s - loss: 0.0206 - val_loss: 0.0291 - 96ms/epoch - 48ms/step\n",
      "Epoch 44/100\n",
      "2/2 - 0s - loss: 0.0206 - val_loss: 0.0289 - 83ms/epoch - 41ms/step\n",
      "Epoch 45/100\n",
      "2/2 - 0s - loss: 0.0205 - val_loss: 0.0288 - 76ms/epoch - 38ms/step\n",
      "Epoch 46/100\n",
      "2/2 - 0s - loss: 0.0205 - val_loss: 0.0286 - 83ms/epoch - 42ms/step\n",
      "Epoch 47/100\n",
      "2/2 - 0s - loss: 0.0205 - val_loss: 0.0285 - 73ms/epoch - 36ms/step\n",
      "Epoch 48/100\n",
      "2/2 - 0s - loss: 0.0204 - val_loss: 0.0284 - 88ms/epoch - 44ms/step\n",
      "Epoch 49/100\n",
      "2/2 - 0s - loss: 0.0204 - val_loss: 0.0283 - 68ms/epoch - 34ms/step\n",
      "Epoch 50/100\n",
      "2/2 - 0s - loss: 0.0203 - val_loss: 0.0282 - 83ms/epoch - 42ms/step\n",
      "Epoch 51/100\n",
      "2/2 - 0s - loss: 0.0203 - val_loss: 0.0281 - 83ms/epoch - 42ms/step\n",
      "Epoch 52/100\n",
      "2/2 - 0s - loss: 0.0203 - val_loss: 0.0280 - 83ms/epoch - 42ms/step\n",
      "Epoch 53/100\n",
      "2/2 - 0s - loss: 0.0202 - val_loss: 0.0279 - 84ms/epoch - 42ms/step\n",
      "Epoch 54/100\n",
      "2/2 - 0s - loss: 0.0202 - val_loss: 0.0278 - 84ms/epoch - 42ms/step\n",
      "Epoch 55/100\n",
      "2/2 - 0s - loss: 0.0202 - val_loss: 0.0277 - 75ms/epoch - 37ms/step\n",
      "Epoch 56/100\n",
      "2/2 - 0s - loss: 0.0201 - val_loss: 0.0276 - 75ms/epoch - 38ms/step\n",
      "Epoch 57/100\n",
      "2/2 - 0s - loss: 0.0201 - val_loss: 0.0275 - 76ms/epoch - 38ms/step\n",
      "Epoch 58/100\n",
      "2/2 - 0s - loss: 0.0201 - val_loss: 0.0274 - 84ms/epoch - 42ms/step\n",
      "Epoch 59/100\n",
      "2/2 - 0s - loss: 0.0200 - val_loss: 0.0273 - 86ms/epoch - 43ms/step\n",
      "Epoch 60/100\n",
      "2/2 - 0s - loss: 0.0200 - val_loss: 0.0272 - 83ms/epoch - 41ms/step\n",
      "Epoch 61/100\n",
      "2/2 - 0s - loss: 0.0200 - val_loss: 0.0271 - 69ms/epoch - 34ms/step\n",
      "Epoch 62/100\n",
      "2/2 - 0s - loss: 0.0200 - val_loss: 0.0270 - 87ms/epoch - 43ms/step\n",
      "Epoch 63/100\n",
      "2/2 - 0s - loss: 0.0199 - val_loss: 0.0269 - 67ms/epoch - 34ms/step\n",
      "Epoch 64/100\n",
      "2/2 - 0s - loss: 0.0199 - val_loss: 0.0268 - 76ms/epoch - 38ms/step\n",
      "Epoch 65/100\n",
      "2/2 - 0s - loss: 0.0199 - val_loss: 0.0267 - 83ms/epoch - 42ms/step\n",
      "Epoch 66/100\n",
      "2/2 - 0s - loss: 0.0198 - val_loss: 0.0266 - 89ms/epoch - 45ms/step\n",
      "Epoch 67/100\n",
      "2/2 - 0s - loss: 0.0198 - val_loss: 0.0265 - 77ms/epoch - 39ms/step\n",
      "Epoch 68/100\n",
      "2/2 - 0s - loss: 0.0198 - val_loss: 0.0264 - 71ms/epoch - 36ms/step\n",
      "Epoch 69/100\n",
      "2/2 - 0s - loss: 0.0198 - val_loss: 0.0264 - 83ms/epoch - 42ms/step\n",
      "Epoch 70/100\n",
      "2/2 - 0s - loss: 0.0198 - val_loss: 0.0263 - 84ms/epoch - 42ms/step\n",
      "Epoch 71/100\n",
      "2/2 - 0s - loss: 0.0197 - val_loss: 0.0262 - 83ms/epoch - 42ms/step\n",
      "Epoch 72/100\n",
      "2/2 - 0s - loss: 0.0197 - val_loss: 0.0262 - 85ms/epoch - 42ms/step\n",
      "Epoch 73/100\n",
      "2/2 - 0s - loss: 0.0197 - val_loss: 0.0261 - 65ms/epoch - 33ms/step\n",
      "Epoch 74/100\n",
      "2/2 - 0s - loss: 0.0197 - val_loss: 0.0260 - 77ms/epoch - 39ms/step\n",
      "Epoch 75/100\n",
      "2/2 - 0s - loss: 0.0197 - val_loss: 0.0260 - 112ms/epoch - 56ms/step\n",
      "Epoch 76/100\n",
      "2/2 - 0s - loss: 0.0196 - val_loss: 0.0259 - 94ms/epoch - 47ms/step\n",
      "Epoch 77/100\n",
      "2/2 - 0s - loss: 0.0196 - val_loss: 0.0259 - 76ms/epoch - 38ms/step\n",
      "Epoch 78/100\n",
      "2/2 - 0s - loss: 0.0196 - val_loss: 0.0258 - 78ms/epoch - 39ms/step\n",
      "Epoch 79/100\n",
      "2/2 - 0s - loss: 0.0196 - val_loss: 0.0257 - 93ms/epoch - 46ms/step\n",
      "Epoch 80/100\n",
      "2/2 - 0s - loss: 0.0196 - val_loss: 0.0257 - 106ms/epoch - 53ms/step\n",
      "Epoch 81/100\n",
      "2/2 - 0s - loss: 0.0196 - val_loss: 0.0256 - 91ms/epoch - 46ms/step\n",
      "Epoch 82/100\n",
      "2/2 - 0s - loss: 0.0195 - val_loss: 0.0256 - 79ms/epoch - 39ms/step\n",
      "Epoch 83/100\n",
      "2/2 - 0s - loss: 0.0195 - val_loss: 0.0256 - 78ms/epoch - 39ms/step\n",
      "Epoch 84/100\n",
      "2/2 - 0s - loss: 0.0195 - val_loss: 0.0255 - 78ms/epoch - 39ms/step\n",
      "Epoch 85/100\n",
      "2/2 - 0s - loss: 0.0195 - val_loss: 0.0255 - 110ms/epoch - 55ms/step\n",
      "Epoch 86/100\n",
      "2/2 - 0s - loss: 0.0195 - val_loss: 0.0254 - 75ms/epoch - 38ms/step\n",
      "Epoch 87/100\n",
      "2/2 - 0s - loss: 0.0195 - val_loss: 0.0254 - 87ms/epoch - 43ms/step\n",
      "Epoch 88/100\n",
      "2/2 - 0s - loss: 0.0195 - val_loss: 0.0254 - 79ms/epoch - 39ms/step\n",
      "Epoch 89/100\n",
      "2/2 - 0s - loss: 0.0195 - val_loss: 0.0253 - 71ms/epoch - 36ms/step\n",
      "Epoch 90/100\n",
      "2/2 - 0s - loss: 0.0195 - val_loss: 0.0253 - 79ms/epoch - 39ms/step\n",
      "Epoch 91/100\n",
      "2/2 - 0s - loss: 0.0194 - val_loss: 0.0253 - 94ms/epoch - 47ms/step\n",
      "Epoch 92/100\n",
      "2/2 - 0s - loss: 0.0194 - val_loss: 0.0252 - 94ms/epoch - 47ms/step\n",
      "Epoch 93/100\n",
      "2/2 - 0s - loss: 0.0194 - val_loss: 0.0252 - 78ms/epoch - 39ms/step\n",
      "Epoch 94/100\n",
      "2/2 - 0s - loss: 0.0194 - val_loss: 0.0252 - 106ms/epoch - 53ms/step\n",
      "Epoch 95/100\n",
      "2/2 - 0s - loss: 0.0194 - val_loss: 0.0252 - 98ms/epoch - 49ms/step\n",
      "Epoch 96/100\n",
      "2/2 - 0s - loss: 0.0194 - val_loss: 0.0251 - 80ms/epoch - 40ms/step\n",
      "Epoch 97/100\n",
      "2/2 - 0s - loss: 0.0194 - val_loss: 0.0251 - 87ms/epoch - 43ms/step\n",
      "Epoch 98/100\n",
      "2/2 - 0s - loss: 0.0194 - val_loss: 0.0251 - 100ms/epoch - 50ms/step\n",
      "Epoch 99/100\n",
      "2/2 - 0s - loss: 0.0194 - val_loss: 0.0251 - 190ms/epoch - 95ms/step\n",
      "Epoch 100/100\n",
      "2/2 - 0s - loss: 0.0194 - val_loss: 0.0251 - 111ms/epoch - 55ms/step\n"
     ]
    },
    {
     "data": {
      "image/png": "[encoded data removed]",
      "text/plain": [
       "<Figure size 432x288 with 1 Axes>"
      ]
     },
     "metadata": {
      "needs_background": "light"
     },
     "output_type": "display_data"
    }
   ],
   "source": [
    "# design network\n",
    "model = Sequential()\n",
    "model.add(LSTM(50, input_shape=(train_X.shape[1], train_X.shape[2])))\n",
    "model.add(Dense(1))\n",
    "model.compile(loss='mean_squared_error', optimizer='adam')\n",
    "# fit network\n",
    "history = model.fit(train_X, train_y, epochs=100, batch_size=72, validation_data=(test_X, test_y), verbose=2, shuffle=False)\n",
    "# plot history\n",
    "pyplot.plot(history.history['loss'], label='train')\n",
    "pyplot.plot(history.history['val_loss'], label='test')\n",
    "pyplot.legend()\n",
    "pyplot.show()"
   ]
  },
  {
   "cell_type": "code",
   "execution_count": 27,
   "metadata": {},
   "outputs": [
    {
     "name": "stdout",
     "output_type": "stream",
     "text": [
      "Model: \"sequential\"\n",
      "_________________________________________________________________\n",
      " Layer (type)                Output Shape              Param #   \n",
      "=================================================================\n",
      " lstm (LSTM)                 (None, 50)                11400     \n",
      "                                                                 \n",
      " dense (Dense)               (None, 1)                 51        \n",
      "                                                                 \n",
      "=================================================================\n",
      "Total params: 11451 (44.73 KB)\n",
      "Trainable params: 11451 (44.73 KB)\n",
      "Non-trainable params: 0 (0.00 Byte)\n",
      "_________________________________________________________________\n"
     ]
    }
   ],
   "source": [
    "model.summary()"
   ]
  },
  {
   "cell_type": "code",
   "execution_count": 28,
   "metadata": {},
   "outputs": [
    {
     "name": "stdout",
     "output_type": "stream",
     "text": [
      "1/1 [==============================] - 1s 1s/step\n",
      "Test RMSE: 169560.007\n"
     ]
    }
   ],
   "source": [
    "# make a prediction\n",
    "yhat = model.predict(test_X)\n",
    "test_X = test_X.reshape((test_X.shape[0], test_X.shape[2]))\n",
    "# invert scaling for forecast\n",
    "inv_yhat = concatenate((yhat, test_X[:, 1:]), axis=1)\n",
    "inv_yhat = scaler.inverse_transform(inv_yhat)\n",
    "inv_yhat = inv_yhat[:,0]\n",
    "# invert scaling for actual\n",
    "test_y = test_y.reshape((len(test_y), 1))\n",
    "inv_y = concatenate((test_y, test_X[:, 1:]), axis=1)\n",
    "inv_y = scaler.inverse_transform(inv_y)\n",
    "inv_y = inv_y[:,0]\n",
    "# calculate RMSE\n",
    "rmse = sqrt(mean_squared_error(inv_y, inv_yhat))\n",
    "print('Test RMSE: %.3f' % rmse)"
   ]
  },
  {
   "cell_type": "code",
   "execution_count": 29,
   "metadata": {},
   "outputs": [
    {
     "data": {
      "text/html": [
       "<div>\n",
       "<style scoped>\n",
       "    .dataframe tbody tr th:only-of-type {\n",
       "        vertical-align: middle;\n",
       "    }\n",
       "\n",
       "    .dataframe tbody tr th {\n",
       "        vertical-align: top;\n",
       "    }\n",
       "\n",
       "    .dataframe thead th {\n",
       "        text-align: right;\n",
       "    }\n",
       "</style>\n",
       "<table border=\"1\" class=\"dataframe\">\n",
       "  <thead>\n",
       "    <tr style=\"text-align: right;\">\n",
       "      <th></th>\n",
       "      <th>Ventas</th>\n",
       "      <th>Holiday_Flag</th>\n",
       "      <th>Temperature</th>\n",
       "      <th>Fuel_Price</th>\n",
       "      <th>CPI</th>\n",
       "      <th>Unemployment</th>\n",
       "    </tr>\n",
       "    <tr>\n",
       "      <th>Fecha</th>\n",
       "      <th></th>\n",
       "      <th></th>\n",
       "      <th></th>\n",
       "      <th></th>\n",
       "      <th></th>\n",
       "      <th></th>\n",
       "    </tr>\n",
       "  </thead>\n",
       "  <tbody>\n",
       "    <tr>\n",
       "      <th>2010-01-08</th>\n",
       "      <td>1425307.565</td>\n",
       "      <td>0</td>\n",
       "      <td>41.97</td>\n",
       "      <td>2.420</td>\n",
       "      <td>211.081890</td>\n",
       "      <td>7.545</td>\n",
       "    </tr>\n",
       "    <tr>\n",
       "      <th>2010-01-15</th>\n",
       "      <td>1360899.630</td>\n",
       "      <td>0</td>\n",
       "      <td>49.08</td>\n",
       "      <td>2.473</td>\n",
       "      <td>210.997826</td>\n",
       "      <td>7.545</td>\n",
       "    </tr>\n",
       "    <tr>\n",
       "      <th>2010-01-22</th>\n",
       "      <td>1346232.857</td>\n",
       "      <td>0</td>\n",
       "      <td>47.33</td>\n",
       "      <td>2.496</td>\n",
       "      <td>210.925603</td>\n",
       "      <td>7.545</td>\n",
       "    </tr>\n",
       "    <tr>\n",
       "      <th>2010-01-29</th>\n",
       "      <td>1318112.450</td>\n",
       "      <td>0</td>\n",
       "      <td>49.05</td>\n",
       "      <td>2.549</td>\n",
       "      <td>211.023576</td>\n",
       "      <td>7.545</td>\n",
       "    </tr>\n",
       "    <tr>\n",
       "      <th>2010-02-05</th>\n",
       "      <td>1643690.900</td>\n",
       "      <td>0</td>\n",
       "      <td>42.31</td>\n",
       "      <td>2.572</td>\n",
       "      <td>211.096358</td>\n",
       "      <td>8.106</td>\n",
       "    </tr>\n",
       "  </tbody>\n",
       "</table>\n",
       "</div>"
      ],
      "text/plain": [
       "                 Ventas  Holiday_Flag  Temperature  Fuel_Price         CPI  \\\n",
       "Fecha                                                                        \n",
       "2010-01-08  1425307.565             0        41.97       2.420  211.081890   \n",
       "2010-01-15  1360899.630             0        49.08       2.473  210.997826   \n",
       "2010-01-22  1346232.857             0        47.33       2.496  210.925603   \n",
       "2010-01-29  1318112.450             0        49.05       2.549  211.023576   \n",
       "2010-02-05  1643690.900             0        42.31       2.572  211.096358   \n",
       "\n",
       "            Unemployment  \n",
       "Fecha                     \n",
       "2010-01-08         7.545  \n",
       "2010-01-15         7.545  \n",
       "2010-01-22         7.545  \n",
       "2010-01-29         7.545  \n",
       "2010-02-05         8.106  "
      ]
     },
     "execution_count": 29,
     "metadata": {},
     "output_type": "execute_result"
    }
   ],
   "source": [
    "dataset.head()"
   ]
  },
  {
   "cell_type": "code",
   "execution_count": 30,
   "metadata": {},
   "outputs": [],
   "source": [
    "dataset_reset = dataset.reset_index()"
   ]
  },
  {
   "cell_type": "code",
   "execution_count": 31,
   "metadata": {},
   "outputs": [
    {
     "data": {
      "text/html": [
       "<div>\n",
       "<style scoped>\n",
       "    .dataframe tbody tr th:only-of-type {\n",
       "        vertical-align: middle;\n",
       "    }\n",
       "\n",
       "    .dataframe tbody tr th {\n",
       "        vertical-align: top;\n",
       "    }\n",
       "\n",
       "    .dataframe thead th {\n",
       "        text-align: right;\n",
       "    }\n",
       "</style>\n",
       "<table border=\"1\" class=\"dataframe\">\n",
       "  <thead>\n",
       "    <tr style=\"text-align: right;\">\n",
       "      <th></th>\n",
       "      <th>Fecha</th>\n",
       "      <th>Ventas</th>\n",
       "      <th>Holiday_Flag</th>\n",
       "      <th>Temperature</th>\n",
       "      <th>Fuel_Price</th>\n",
       "      <th>CPI</th>\n",
       "      <th>Unemployment</th>\n",
       "    </tr>\n",
       "  </thead>\n",
       "  <tbody>\n",
       "    <tr>\n",
       "      <th>0</th>\n",
       "      <td>2010-01-08</td>\n",
       "      <td>1425307.565</td>\n",
       "      <td>0</td>\n",
       "      <td>41.97</td>\n",
       "      <td>2.420</td>\n",
       "      <td>211.081890</td>\n",
       "      <td>7.545</td>\n",
       "    </tr>\n",
       "    <tr>\n",
       "      <th>1</th>\n",
       "      <td>2010-01-15</td>\n",
       "      <td>1360899.630</td>\n",
       "      <td>0</td>\n",
       "      <td>49.08</td>\n",
       "      <td>2.473</td>\n",
       "      <td>210.997826</td>\n",
       "      <td>7.545</td>\n",
       "    </tr>\n",
       "    <tr>\n",
       "      <th>2</th>\n",
       "      <td>2010-01-22</td>\n",
       "      <td>1346232.857</td>\n",
       "      <td>0</td>\n",
       "      <td>47.33</td>\n",
       "      <td>2.496</td>\n",
       "      <td>210.925603</td>\n",
       "      <td>7.545</td>\n",
       "    </tr>\n",
       "    <tr>\n",
       "      <th>3</th>\n",
       "      <td>2010-01-29</td>\n",
       "      <td>1318112.450</td>\n",
       "      <td>0</td>\n",
       "      <td>49.05</td>\n",
       "      <td>2.549</td>\n",
       "      <td>211.023576</td>\n",
       "      <td>7.545</td>\n",
       "    </tr>\n",
       "    <tr>\n",
       "      <th>4</th>\n",
       "      <td>2010-02-05</td>\n",
       "      <td>1643690.900</td>\n",
       "      <td>0</td>\n",
       "      <td>42.31</td>\n",
       "      <td>2.572</td>\n",
       "      <td>211.096358</td>\n",
       "      <td>8.106</td>\n",
       "    </tr>\n",
       "  </tbody>\n",
       "</table>\n",
       "</div>"
      ],
      "text/plain": [
       "        Fecha       Ventas  Holiday_Flag  Temperature  Fuel_Price         CPI  \\\n",
       "0  2010-01-08  1425307.565             0        41.97       2.420  211.081890   \n",
       "1  2010-01-15  1360899.630             0        49.08       2.473  210.997826   \n",
       "2  2010-01-22  1346232.857             0        47.33       2.496  210.925603   \n",
       "3  2010-01-29  1318112.450             0        49.05       2.549  211.023576   \n",
       "4  2010-02-05  1643690.900             0        42.31       2.572  211.096358   \n",
       "\n",
       "   Unemployment  \n",
       "0         7.545  \n",
       "1         7.545  \n",
       "2         7.545  \n",
       "3         7.545  \n",
       "4         8.106  "
      ]
     },
     "execution_count": 31,
     "metadata": {},
     "output_type": "execute_result"
    }
   ],
   "source": [
    "dataset_reset.head()"
   ]
  },
  {
   "cell_type": "code",
   "execution_count": 32,
   "metadata": {},
   "outputs": [
    {
     "data": {
      "text/plain": [
       "30"
      ]
     },
     "execution_count": 32,
     "metadata": {},
     "output_type": "execute_result"
    }
   ],
   "source": [
    "resultados = pd.DataFrame(data={'Prediccion':inv_yhat, 'Test': inv_y })\n",
    "resultados.head()\n",
    "len(resultados)"
   ]
  },
  {
   "cell_type": "code",
   "execution_count": 33,
   "metadata": {},
   "outputs": [
    {
     "data": {
      "text/plain": [
       "125"
      ]
     },
     "execution_count": 33,
     "metadata": {},
     "output_type": "execute_result"
    }
   ],
   "source": [
    "len(train)"
   ]
  },
  {
   "cell_type": "code",
   "execution_count": 34,
   "metadata": {},
   "outputs": [
    {
     "data": {
      "text/plain": [
       "30"
      ]
     },
     "execution_count": 34,
     "metadata": {},
     "output_type": "execute_result"
    }
   ],
   "source": [
    "len(inv_yhat)"
   ]
  },
  {
   "cell_type": "code",
   "execution_count": 35,
   "metadata": {},
   "outputs": [
    {
     "data": {
      "text/plain": [
       "30"
      ]
     },
     "execution_count": 35,
     "metadata": {},
     "output_type": "execute_result"
    }
   ],
   "source": [
    "dataset_fecha = dataset_reset.Fecha[-30:]\n",
    "len(dataset_fecha)"
   ]
  },
  {
   "cell_type": "code",
   "execution_count": 36,
   "metadata": {},
   "outputs": [
    {
     "data": {
      "text/html": [
       "<div>\n",
       "<style scoped>\n",
       "    .dataframe tbody tr th:only-of-type {\n",
       "        vertical-align: middle;\n",
       "    }\n",
       "\n",
       "    .dataframe tbody tr th {\n",
       "        vertical-align: top;\n",
       "    }\n",
       "\n",
       "    .dataframe thead th {\n",
       "        text-align: right;\n",
       "    }\n",
       "</style>\n",
       "<table border=\"1\" class=\"dataframe\">\n",
       "  <thead>\n",
       "    <tr style=\"text-align: right;\">\n",
       "      <th></th>\n",
       "      <th>Fecha</th>\n",
       "      <th>Prediccion</th>\n",
       "      <th>Test</th>\n",
       "    </tr>\n",
       "  </thead>\n",
       "  <tbody>\n",
       "    <tr>\n",
       "      <th>126</th>\n",
       "      <td>2012-06-08</td>\n",
       "      <td>1590612.750</td>\n",
       "      <td>1697231.000</td>\n",
       "    </tr>\n",
       "    <tr>\n",
       "      <th>127</th>\n",
       "      <td>2012-06-15</td>\n",
       "      <td>1603313.000</td>\n",
       "      <td>1630607.000</td>\n",
       "    </tr>\n",
       "    <tr>\n",
       "      <th>128</th>\n",
       "      <td>2012-06-22</td>\n",
       "      <td>1588260.625</td>\n",
       "      <td>1527845.750</td>\n",
       "    </tr>\n",
       "    <tr>\n",
       "      <th>129</th>\n",
       "      <td>2012-06-29</td>\n",
       "      <td>1570836.750</td>\n",
       "      <td>1540421.500</td>\n",
       "    </tr>\n",
       "    <tr>\n",
       "      <th>130</th>\n",
       "      <td>2012-07-06</td>\n",
       "      <td>1560300.250</td>\n",
       "      <td>1769854.125</td>\n",
       "    </tr>\n",
       "  </tbody>\n",
       "</table>\n",
       "</div>"
      ],
      "text/plain": [
       "          Fecha   Prediccion         Test\n",
       "126  2012-06-08  1590612.750  1697231.000\n",
       "127  2012-06-15  1603313.000  1630607.000\n",
       "128  2012-06-22  1588260.625  1527845.750\n",
       "129  2012-06-29  1570836.750  1540421.500\n",
       "130  2012-07-06  1560300.250  1769854.125"
      ]
     },
     "execution_count": 36,
     "metadata": {},
     "output_type": "execute_result"
    }
   ],
   "source": [
    "predicciones = pd.DataFrame(data={'Fecha':dataset_fecha, 'Prediccion':inv_yhat, 'Test': inv_y })\n",
    "predicciones.head()\n",
    "#len(predicciones)"
   ]
  },
  {
   "cell_type": "code",
   "execution_count": 37,
   "metadata": {},
   "outputs": [
    {
     "data": {
      "text/html": [
       "<div>\n",
       "<style scoped>\n",
       "    .dataframe tbody tr th:only-of-type {\n",
       "        vertical-align: middle;\n",
       "    }\n",
       "\n",
       "    .dataframe tbody tr th {\n",
       "        vertical-align: top;\n",
       "    }\n",
       "\n",
       "    .dataframe thead th {\n",
       "        text-align: right;\n",
       "    }\n",
       "</style>\n",
       "<table border=\"1\" class=\"dataframe\">\n",
       "  <thead>\n",
       "    <tr style=\"text-align: right;\">\n",
       "      <th></th>\n",
       "      <th>Fecha</th>\n",
       "      <th>Prediccion</th>\n",
       "    </tr>\n",
       "  </thead>\n",
       "  <tbody>\n",
       "    <tr>\n",
       "      <th>126</th>\n",
       "      <td>2012-06-08</td>\n",
       "      <td>1590612.750</td>\n",
       "    </tr>\n",
       "    <tr>\n",
       "      <th>127</th>\n",
       "      <td>2012-06-15</td>\n",
       "      <td>1603313.000</td>\n",
       "    </tr>\n",
       "    <tr>\n",
       "      <th>128</th>\n",
       "      <td>2012-06-22</td>\n",
       "      <td>1588260.625</td>\n",
       "    </tr>\n",
       "    <tr>\n",
       "      <th>129</th>\n",
       "      <td>2012-06-29</td>\n",
       "      <td>1570836.750</td>\n",
       "    </tr>\n",
       "    <tr>\n",
       "      <th>130</th>\n",
       "      <td>2012-07-06</td>\n",
       "      <td>1560300.250</td>\n",
       "    </tr>\n",
       "  </tbody>\n",
       "</table>\n",
       "</div>"
      ],
      "text/plain": [
       "          Fecha   Prediccion\n",
       "126  2012-06-08  1590612.750\n",
       "127  2012-06-15  1603313.000\n",
       "128  2012-06-22  1588260.625\n",
       "129  2012-06-29  1570836.750\n",
       "130  2012-07-06  1560300.250"
      ]
     },
     "execution_count": 37,
     "metadata": {},
     "output_type": "execute_result"
    }
   ],
   "source": [
    "predicciones_test = pd.DataFrame(data={'Fecha':dataset_fecha, 'Prediccion':inv_yhat })\n",
    "predicciones_test.head()\n",
    "#len(predicciones)"
   ]
  },
  {
   "cell_type": "code",
   "execution_count": 38,
   "metadata": {},
   "outputs": [],
   "source": [
    "predicciones_test['Fecha'] = pd.to_datetime(predicciones_test['Fecha'])"
   ]
  },
  {
   "cell_type": "code",
   "execution_count": 39,
   "metadata": {},
   "outputs": [
    {
     "name": "stdout",
     "output_type": "stream",
     "text": [
      "<class 'pandas.core.frame.DataFrame'>\n",
      "RangeIndex: 30 entries, 126 to 155\n",
      "Data columns (total 2 columns):\n",
      " #   Column      Non-Null Count  Dtype         \n",
      "---  ------      --------------  -----         \n",
      " 0   Fecha       30 non-null     datetime64[ns]\n",
      " 1   Prediccion  30 non-null     float32       \n",
      "dtypes: datetime64[ns](1), float32(1)\n",
      "memory usage: 492.0 bytes\n"
     ]
    },
    {
     "data": {
      "text/html": [
       "<div>\n",
       "<style scoped>\n",
       "    .dataframe tbody tr th:only-of-type {\n",
       "        vertical-align: middle;\n",
       "    }\n",
       "\n",
       "    .dataframe tbody tr th {\n",
       "        vertical-align: top;\n",
       "    }\n",
       "\n",
       "    .dataframe thead th {\n",
       "        text-align: right;\n",
       "    }\n",
       "</style>\n",
       "<table border=\"1\" class=\"dataframe\">\n",
       "  <thead>\n",
       "    <tr style=\"text-align: right;\">\n",
       "      <th></th>\n",
       "      <th>Fecha</th>\n",
       "      <th>Prediccion</th>\n",
       "    </tr>\n",
       "  </thead>\n",
       "  <tbody>\n",
       "    <tr>\n",
       "      <th>126</th>\n",
       "      <td>2012-06-08</td>\n",
       "      <td>1590612.750</td>\n",
       "    </tr>\n",
       "    <tr>\n",
       "      <th>127</th>\n",
       "      <td>2012-06-15</td>\n",
       "      <td>1603313.000</td>\n",
       "    </tr>\n",
       "    <tr>\n",
       "      <th>128</th>\n",
       "      <td>2012-06-22</td>\n",
       "      <td>1588260.625</td>\n",
       "    </tr>\n",
       "    <tr>\n",
       "      <th>129</th>\n",
       "      <td>2012-06-29</td>\n",
       "      <td>1570836.750</td>\n",
       "    </tr>\n",
       "    <tr>\n",
       "      <th>130</th>\n",
       "      <td>2012-07-06</td>\n",
       "      <td>1560300.250</td>\n",
       "    </tr>\n",
       "  </tbody>\n",
       "</table>\n",
       "</div>"
      ],
      "text/plain": [
       "         Fecha   Prediccion\n",
       "126 2012-06-08  1590612.750\n",
       "127 2012-06-15  1603313.000\n",
       "128 2012-06-22  1588260.625\n",
       "129 2012-06-29  1570836.750\n",
       "130 2012-07-06  1560300.250"
      ]
     },
     "execution_count": 39,
     "metadata": {},
     "output_type": "execute_result"
    }
   ],
   "source": [
    "predicciones_test.info()\n",
    "predicciones_test.head()"
   ]
  },
  {
   "cell_type": "code",
   "execution_count": 40,
   "metadata": {},
   "outputs": [],
   "source": [
    "predicciones_test.set_index('Fecha', inplace=True)"
   ]
  },
  {
   "cell_type": "code",
   "execution_count": 41,
   "metadata": {},
   "outputs": [
    {
     "data": {
      "text/html": [
       "<div>\n",
       "<style scoped>\n",
       "    .dataframe tbody tr th:only-of-type {\n",
       "        vertical-align: middle;\n",
       "    }\n",
       "\n",
       "    .dataframe tbody tr th {\n",
       "        vertical-align: top;\n",
       "    }\n",
       "\n",
       "    .dataframe thead th {\n",
       "        text-align: right;\n",
       "    }\n",
       "</style>\n",
       "<table border=\"1\" class=\"dataframe\">\n",
       "  <thead>\n",
       "    <tr style=\"text-align: right;\">\n",
       "      <th></th>\n",
       "      <th>Ventas</th>\n",
       "      <th>Holiday_Flag</th>\n",
       "      <th>Temperature</th>\n",
       "      <th>Fuel_Price</th>\n",
       "      <th>CPI</th>\n",
       "      <th>Unemployment</th>\n",
       "    </tr>\n",
       "    <tr>\n",
       "      <th>Fecha</th>\n",
       "      <th></th>\n",
       "      <th></th>\n",
       "      <th></th>\n",
       "      <th></th>\n",
       "      <th></th>\n",
       "      <th></th>\n",
       "    </tr>\n",
       "  </thead>\n",
       "  <tbody>\n",
       "    <tr>\n",
       "      <th>2010-01-08</th>\n",
       "      <td>1425307.565</td>\n",
       "      <td>0</td>\n",
       "      <td>41.97</td>\n",
       "      <td>2.420</td>\n",
       "      <td>211.081890</td>\n",
       "      <td>7.545</td>\n",
       "    </tr>\n",
       "    <tr>\n",
       "      <th>2010-01-15</th>\n",
       "      <td>1360899.630</td>\n",
       "      <td>0</td>\n",
       "      <td>49.08</td>\n",
       "      <td>2.473</td>\n",
       "      <td>210.997826</td>\n",
       "      <td>7.545</td>\n",
       "    </tr>\n",
       "    <tr>\n",
       "      <th>2010-01-22</th>\n",
       "      <td>1346232.857</td>\n",
       "      <td>0</td>\n",
       "      <td>47.33</td>\n",
       "      <td>2.496</td>\n",
       "      <td>210.925603</td>\n",
       "      <td>7.545</td>\n",
       "    </tr>\n",
       "    <tr>\n",
       "      <th>2010-01-29</th>\n",
       "      <td>1318112.450</td>\n",
       "      <td>0</td>\n",
       "      <td>49.05</td>\n",
       "      <td>2.549</td>\n",
       "      <td>211.023576</td>\n",
       "      <td>7.545</td>\n",
       "    </tr>\n",
       "    <tr>\n",
       "      <th>2010-02-05</th>\n",
       "      <td>1643690.900</td>\n",
       "      <td>0</td>\n",
       "      <td>42.31</td>\n",
       "      <td>2.572</td>\n",
       "      <td>211.096358</td>\n",
       "      <td>8.106</td>\n",
       "    </tr>\n",
       "  </tbody>\n",
       "</table>\n",
       "</div>"
      ],
      "text/plain": [
       "                 Ventas  Holiday_Flag  Temperature  Fuel_Price         CPI  \\\n",
       "Fecha                                                                        \n",
       "2010-01-08  1425307.565             0        41.97       2.420  211.081890   \n",
       "2010-01-15  1360899.630             0        49.08       2.473  210.997826   \n",
       "2010-01-22  1346232.857             0        47.33       2.496  210.925603   \n",
       "2010-01-29  1318112.450             0        49.05       2.549  211.023576   \n",
       "2010-02-05  1643690.900             0        42.31       2.572  211.096358   \n",
       "\n",
       "            Unemployment  \n",
       "Fecha                     \n",
       "2010-01-08         7.545  \n",
       "2010-01-15         7.545  \n",
       "2010-01-22         7.545  \n",
       "2010-01-29         7.545  \n",
       "2010-02-05         8.106  "
      ]
     },
     "execution_count": 41,
     "metadata": {},
     "output_type": "execute_result"
    }
   ],
   "source": [
    "df.head()"
   ]
  },
  {
   "cell_type": "code",
   "execution_count": 42,
   "metadata": {},
   "outputs": [
    {
     "data": {
      "text/html": [
       "<div>\n",
       "<style scoped>\n",
       "    .dataframe tbody tr th:only-of-type {\n",
       "        vertical-align: middle;\n",
       "    }\n",
       "\n",
       "    .dataframe tbody tr th {\n",
       "        vertical-align: top;\n",
       "    }\n",
       "\n",
       "    .dataframe thead th {\n",
       "        text-align: right;\n",
       "    }\n",
       "</style>\n",
       "<table border=\"1\" class=\"dataframe\">\n",
       "  <thead>\n",
       "    <tr style=\"text-align: right;\">\n",
       "      <th></th>\n",
       "      <th>Prediccion</th>\n",
       "    </tr>\n",
       "    <tr>\n",
       "      <th>Fecha</th>\n",
       "      <th></th>\n",
       "    </tr>\n",
       "  </thead>\n",
       "  <tbody>\n",
       "    <tr>\n",
       "      <th>2012-06-08</th>\n",
       "      <td>1590612.750</td>\n",
       "    </tr>\n",
       "    <tr>\n",
       "      <th>2012-06-15</th>\n",
       "      <td>1603313.000</td>\n",
       "    </tr>\n",
       "    <tr>\n",
       "      <th>2012-06-22</th>\n",
       "      <td>1588260.625</td>\n",
       "    </tr>\n",
       "    <tr>\n",
       "      <th>2012-06-29</th>\n",
       "      <td>1570836.750</td>\n",
       "    </tr>\n",
       "    <tr>\n",
       "      <th>2012-07-06</th>\n",
       "      <td>1560300.250</td>\n",
       "    </tr>\n",
       "  </tbody>\n",
       "</table>\n",
       "</div>"
      ],
      "text/plain": [
       "             Prediccion\n",
       "Fecha                  \n",
       "2012-06-08  1590612.750\n",
       "2012-06-15  1603313.000\n",
       "2012-06-22  1588260.625\n",
       "2012-06-29  1570836.750\n",
       "2012-07-06  1560300.250"
      ]
     },
     "execution_count": 42,
     "metadata": {},
     "output_type": "execute_result"
    }
   ],
   "source": [
    "predicciones_test.head()"
   ]
  },
  {
   "cell_type": "code",
   "execution_count": 43,
   "metadata": {},
   "outputs": [
    {
     "name": "stdout",
     "output_type": "stream",
     "text": [
      "<class 'pandas.core.frame.DataFrame'>\n",
      "DatetimeIndex: 30 entries, 2012-06-08 to 2012-12-28\n",
      "Data columns (total 1 columns):\n",
      " #   Column      Non-Null Count  Dtype  \n",
      "---  ------      --------------  -----  \n",
      " 0   Prediccion  30 non-null     float32\n",
      "dtypes: float32(1)\n",
      "memory usage: 360.0 bytes\n"
     ]
    }
   ],
   "source": [
    "predicciones_test.info()"
   ]
  },
  {
   "cell_type": "code",
   "execution_count": 44,
   "metadata": {},
   "outputs": [
    {
     "name": "stdout",
     "output_type": "stream",
     "text": [
      "<class 'pandas.core.frame.DataFrame'>\n",
      "DatetimeIndex: 156 entries, 2010-01-08 to 2012-12-28\n",
      "Data columns (total 6 columns):\n",
      " #   Column        Non-Null Count  Dtype  \n",
      "---  ------        --------------  -----  \n",
      " 0   Ventas        156 non-null    float64\n",
      " 1   Holiday_Flag  156 non-null    int64  \n",
      " 2   Temperature   156 non-null    float64\n",
      " 3   Fuel_Price    156 non-null    float64\n",
      " 4   CPI           156 non-null    float64\n",
      " 5   Unemployment  156 non-null    float64\n",
      "dtypes: float64(5), int64(1)\n",
      "memory usage: 8.5 KB\n"
     ]
    }
   ],
   "source": [
    "df.info()"
   ]
  },
  {
   "cell_type": "code",
   "execution_count": 45,
   "metadata": {},
   "outputs": [
    {
     "data": {
      "image/png": "[encoded data removed]",
      "text/plain": [
       "<Figure size 864x432 with 1 Axes>"
      ]
     },
     "metadata": {
      "needs_background": "light"
     },
     "output_type": "display_data"
    }
   ],
   "source": [
    "# plot baseline and predictions\n",
    "plt.figure(figsize=(12, 6))\n",
    "plt.plot(df.Ventas, label='Historical Sales')\n",
    "#plt.plot(trainPredictPlot, color='red')\n",
    "plt.plot(predicciones_test, label='Predicted Sales', color='red')\n",
    "#plt.title('Predicciones del Modelo LSTM')\n",
    "plt.legend()\n",
    "plt.show()"
   ]
  },
  {
   "cell_type": "code",
   "execution_count": 46,
   "metadata": {},
   "outputs": [
    {
     "name": "stdout",
     "output_type": "stream",
     "text": [
      "Test RMSE: 169560.007\n",
      "Test MSE: 28750596096.000\n",
      "Test MAE: 117589.000\n",
      "Test MAPE: 0.073\n"
     ]
    }
   ],
   "source": [
    "#Calculo del error del modelo: RMSE (evaluate forecasts)\n",
    "rmse = sqrt(mean_squared_error(inv_yhat,  inv_y ))\n",
    "print('Test RMSE: %.3f' % rmse)\n",
    "\n",
    "#Calculo del error cuadratico medio del modelo: MSE (evaluate forecasts)\n",
    "mse = mean_squared_error(inv_yhat,  inv_y)\n",
    "print('Test MSE: %.3f' % mse)\n",
    "\n",
    "#Calculo del error absoluto medio del modelo: MAE (evaluate forecasts)\n",
    "mae = mean_absolute_error(inv_yhat,  inv_y)\n",
    "print('Test MAE: %.3f' % mae)\n",
    "\n",
    "#Calculo del error porcentual Absoluto Medio del modelo: MAPE (evaluate forecasts)\n",
    "mape = mean_absolute_percentage_error(inv_yhat,  inv_y)\n",
    "print('Test MAPE: %.3f' % mape)\n"
   ]
  }
 ],
 "metadata": {
  "kernelspec": {
   "display_name": "base",
   "language": "python",
   "name": "python3"
  },
  "language_info": {
   "codemirror_mode": {
    "name": "ipython",
    "version": 3
   },
   "file_extension": ".py",
   "mimetype": "text/x-python",
   "name": "python",
   "nbconvert_exporter": "python",
   "pygments_lexer": "ipython3",
   "version": "3.9.12"
  },
  "orig_nbformat": 4
 },
 "nbformat": 4,
 "nbformat_minor": 2
}
